{
 "cells": [
  {
   "cell_type": "markdown",
   "metadata": {
    "id": "C3ImoC4TgeNu"
   },
   "source": [
    "## Ocean with periodic boundary"
   ]
  },
  {
   "cell_type": "code",
   "execution_count": 3,
   "metadata": {
    "id": "FAdOSlUpgSzf",
    "scrolled": true
   },
   "outputs": [],
   "source": [
    "# import a bunch of packages - don't worry about TF warnings\n",
    "import numpy as np\n",
    "import matplotlib.pyplot as plt\n",
    "import xarray as xr\n",
    "import tensorflow as tf\n",
    "import tensorflow.keras as keras\n",
    "from tensorflow.keras.layers import *\n",
    "import tensorflow.keras.backend as K\n",
    "#import seaborn as sns\n",
    "import pickle\n",
    "#from src.score import *\n",
    "from collections import OrderedDict"
   ]
  },
  {
   "cell_type": "code",
   "execution_count": 2,
   "metadata": {
    "colab": {
     "base_uri": "https://localhost:8080/"
    },
    "id": "m86MhrMxg8Yu",
    "outputId": "c84f87f4-4d7e-4beb-e0a5-a5cd47ce246a"
   },
   "outputs": [
    {
     "name": "stdout",
     "output_type": "stream",
     "text": [
      "Mounted at /content/drive\n"
     ]
    }
   ],
   "source": [
    "# mount google drive to colab\n",
    "#from google.colab import drive\n",
    "#drive.mount('/content/drive')"
   ]
  },
  {
   "cell_type": "code",
   "execution_count": 5,
   "metadata": {
    "id": "chqIXdqSg_cR"
   },
   "outputs": [],
   "source": [
    "# path to shared folder - containing relevant data\n",
    "#root_era5 = '/content/drive/MyDrive/2024METFUT_project_data/ERA5/'\n",
    "root_era5  = '/home/anton/Documents/MSPEA/SoSe24/MachineLearning/data_retrieval/2024METFUT_project_data/ERA5/'\n",
    "\n",
    "# import the sea surface temperature, sea ice concentration, land-sea-mask\n",
    "sst    = xr.open_mfdataset(root_era5+'sst_5.625deg/*.nc', combine='by_coords').load()\n",
    "siconc = xr.open_mfdataset(root_era5+'siconc_5.625deg/*.nc', combine='by_coords').load()"
   ]
  },
  {
   "cell_type": "code",
   "execution_count": 43,
   "metadata": {
    "id": "Zsz0TW4gmNtd"
   },
   "outputs": [
    {
     "data": {
      "text/html": [
       "<div><svg style=\"position: absolute; width: 0; height: 0; overflow: hidden\">\n",
       "<defs>\n",
       "<symbol id=\"icon-database\" viewBox=\"0 0 32 32\">\n",
       "<path d=\"M16 0c-8.837 0-16 2.239-16 5v4c0 2.761 7.163 5 16 5s16-2.239 16-5v-4c0-2.761-7.163-5-16-5z\"></path>\n",
       "<path d=\"M16 17c-8.837 0-16-2.239-16-5v6c0 2.761 7.163 5 16 5s16-2.239 16-5v-6c0 2.761-7.163 5-16 5z\"></path>\n",
       "<path d=\"M16 26c-8.837 0-16-2.239-16-5v6c0 2.761 7.163 5 16 5s16-2.239 16-5v-6c0 2.761-7.163 5-16 5z\"></path>\n",
       "</symbol>\n",
       "<symbol id=\"icon-file-text2\" viewBox=\"0 0 32 32\">\n",
       "<path d=\"M28.681 7.159c-0.694-0.947-1.662-2.053-2.724-3.116s-2.169-2.030-3.116-2.724c-1.612-1.182-2.393-1.319-2.841-1.319h-15.5c-1.378 0-2.5 1.121-2.5 2.5v27c0 1.378 1.122 2.5 2.5 2.5h23c1.378 0 2.5-1.122 2.5-2.5v-19.5c0-0.448-0.137-1.23-1.319-2.841zM24.543 5.457c0.959 0.959 1.712 1.825 2.268 2.543h-4.811v-4.811c0.718 0.556 1.584 1.309 2.543 2.268zM28 29.5c0 0.271-0.229 0.5-0.5 0.5h-23c-0.271 0-0.5-0.229-0.5-0.5v-27c0-0.271 0.229-0.5 0.5-0.5 0 0 15.499-0 15.5 0v7c0 0.552 0.448 1 1 1h7v19.5z\"></path>\n",
       "<path d=\"M23 26h-14c-0.552 0-1-0.448-1-1s0.448-1 1-1h14c0.552 0 1 0.448 1 1s-0.448 1-1 1z\"></path>\n",
       "<path d=\"M23 22h-14c-0.552 0-1-0.448-1-1s0.448-1 1-1h14c0.552 0 1 0.448 1 1s-0.448 1-1 1z\"></path>\n",
       "<path d=\"M23 18h-14c-0.552 0-1-0.448-1-1s0.448-1 1-1h14c0.552 0 1 0.448 1 1s-0.448 1-1 1z\"></path>\n",
       "</symbol>\n",
       "</defs>\n",
       "</svg>\n",
       "<style>/* CSS stylesheet for displaying xarray objects in jupyterlab.\n",
       " *\n",
       " */\n",
       "\n",
       ":root {\n",
       "  --xr-font-color0: var(--jp-content-font-color0, rgba(0, 0, 0, 1));\n",
       "  --xr-font-color2: var(--jp-content-font-color2, rgba(0, 0, 0, 0.54));\n",
       "  --xr-font-color3: var(--jp-content-font-color3, rgba(0, 0, 0, 0.38));\n",
       "  --xr-border-color: var(--jp-border-color2, #e0e0e0);\n",
       "  --xr-disabled-color: var(--jp-layout-color3, #bdbdbd);\n",
       "  --xr-background-color: var(--jp-layout-color0, white);\n",
       "  --xr-background-color-row-even: var(--jp-layout-color1, white);\n",
       "  --xr-background-color-row-odd: var(--jp-layout-color2, #eeeeee);\n",
       "}\n",
       "\n",
       "html[theme=dark],\n",
       "body[data-theme=dark],\n",
       "body.vscode-dark {\n",
       "  --xr-font-color0: rgba(255, 255, 255, 1);\n",
       "  --xr-font-color2: rgba(255, 255, 255, 0.54);\n",
       "  --xr-font-color3: rgba(255, 255, 255, 0.38);\n",
       "  --xr-border-color: #1F1F1F;\n",
       "  --xr-disabled-color: #515151;\n",
       "  --xr-background-color: #111111;\n",
       "  --xr-background-color-row-even: #111111;\n",
       "  --xr-background-color-row-odd: #313131;\n",
       "}\n",
       "\n",
       ".xr-wrap {\n",
       "  display: block !important;\n",
       "  min-width: 300px;\n",
       "  max-width: 700px;\n",
       "}\n",
       "\n",
       ".xr-text-repr-fallback {\n",
       "  /* fallback to plain text repr when CSS is not injected (untrusted notebook) */\n",
       "  display: none;\n",
       "}\n",
       "\n",
       ".xr-header {\n",
       "  padding-top: 6px;\n",
       "  padding-bottom: 6px;\n",
       "  margin-bottom: 4px;\n",
       "  border-bottom: solid 1px var(--xr-border-color);\n",
       "}\n",
       "\n",
       ".xr-header > div,\n",
       ".xr-header > ul {\n",
       "  display: inline;\n",
       "  margin-top: 0;\n",
       "  margin-bottom: 0;\n",
       "}\n",
       "\n",
       ".xr-obj-type,\n",
       ".xr-array-name {\n",
       "  margin-left: 2px;\n",
       "  margin-right: 10px;\n",
       "}\n",
       "\n",
       ".xr-obj-type {\n",
       "  color: var(--xr-font-color2);\n",
       "}\n",
       "\n",
       ".xr-sections {\n",
       "  padding-left: 0 !important;\n",
       "  display: grid;\n",
       "  grid-template-columns: 150px auto auto 1fr 20px 20px;\n",
       "}\n",
       "\n",
       ".xr-section-item {\n",
       "  display: contents;\n",
       "}\n",
       "\n",
       ".xr-section-item input {\n",
       "  display: none;\n",
       "}\n",
       "\n",
       ".xr-section-item input + label {\n",
       "  color: var(--xr-disabled-color);\n",
       "}\n",
       "\n",
       ".xr-section-item input:enabled + label {\n",
       "  cursor: pointer;\n",
       "  color: var(--xr-font-color2);\n",
       "}\n",
       "\n",
       ".xr-section-item input:enabled + label:hover {\n",
       "  color: var(--xr-font-color0);\n",
       "}\n",
       "\n",
       ".xr-section-summary {\n",
       "  grid-column: 1;\n",
       "  color: var(--xr-font-color2);\n",
       "  font-weight: 500;\n",
       "}\n",
       "\n",
       ".xr-section-summary > span {\n",
       "  display: inline-block;\n",
       "  padding-left: 0.5em;\n",
       "}\n",
       "\n",
       ".xr-section-summary-in:disabled + label {\n",
       "  color: var(--xr-font-color2);\n",
       "}\n",
       "\n",
       ".xr-section-summary-in + label:before {\n",
       "  display: inline-block;\n",
       "  content: '►';\n",
       "  font-size: 11px;\n",
       "  width: 15px;\n",
       "  text-align: center;\n",
       "}\n",
       "\n",
       ".xr-section-summary-in:disabled + label:before {\n",
       "  color: var(--xr-disabled-color);\n",
       "}\n",
       "\n",
       ".xr-section-summary-in:checked + label:before {\n",
       "  content: '▼';\n",
       "}\n",
       "\n",
       ".xr-section-summary-in:checked + label > span {\n",
       "  display: none;\n",
       "}\n",
       "\n",
       ".xr-section-summary,\n",
       ".xr-section-inline-details {\n",
       "  padding-top: 4px;\n",
       "  padding-bottom: 4px;\n",
       "}\n",
       "\n",
       ".xr-section-inline-details {\n",
       "  grid-column: 2 / -1;\n",
       "}\n",
       "\n",
       ".xr-section-details {\n",
       "  display: none;\n",
       "  grid-column: 1 / -1;\n",
       "  margin-bottom: 5px;\n",
       "}\n",
       "\n",
       ".xr-section-summary-in:checked ~ .xr-section-details {\n",
       "  display: contents;\n",
       "}\n",
       "\n",
       ".xr-array-wrap {\n",
       "  grid-column: 1 / -1;\n",
       "  display: grid;\n",
       "  grid-template-columns: 20px auto;\n",
       "}\n",
       "\n",
       ".xr-array-wrap > label {\n",
       "  grid-column: 1;\n",
       "  vertical-align: top;\n",
       "}\n",
       "\n",
       ".xr-preview {\n",
       "  color: var(--xr-font-color3);\n",
       "}\n",
       "\n",
       ".xr-array-preview,\n",
       ".xr-array-data {\n",
       "  padding: 0 5px !important;\n",
       "  grid-column: 2;\n",
       "}\n",
       "\n",
       ".xr-array-data,\n",
       ".xr-array-in:checked ~ .xr-array-preview {\n",
       "  display: none;\n",
       "}\n",
       "\n",
       ".xr-array-in:checked ~ .xr-array-data,\n",
       ".xr-array-preview {\n",
       "  display: inline-block;\n",
       "}\n",
       "\n",
       ".xr-dim-list {\n",
       "  display: inline-block !important;\n",
       "  list-style: none;\n",
       "  padding: 0 !important;\n",
       "  margin: 0;\n",
       "}\n",
       "\n",
       ".xr-dim-list li {\n",
       "  display: inline-block;\n",
       "  padding: 0;\n",
       "  margin: 0;\n",
       "}\n",
       "\n",
       ".xr-dim-list:before {\n",
       "  content: '(';\n",
       "}\n",
       "\n",
       ".xr-dim-list:after {\n",
       "  content: ')';\n",
       "}\n",
       "\n",
       ".xr-dim-list li:not(:last-child):after {\n",
       "  content: ',';\n",
       "  padding-right: 5px;\n",
       "}\n",
       "\n",
       ".xr-has-index {\n",
       "  font-weight: bold;\n",
       "}\n",
       "\n",
       ".xr-var-list,\n",
       ".xr-var-item {\n",
       "  display: contents;\n",
       "}\n",
       "\n",
       ".xr-var-item > div,\n",
       ".xr-var-item label,\n",
       ".xr-var-item > .xr-var-name span {\n",
       "  background-color: var(--xr-background-color-row-even);\n",
       "  margin-bottom: 0;\n",
       "}\n",
       "\n",
       ".xr-var-item > .xr-var-name:hover span {\n",
       "  padding-right: 5px;\n",
       "}\n",
       "\n",
       ".xr-var-list > li:nth-child(odd) > div,\n",
       ".xr-var-list > li:nth-child(odd) > label,\n",
       ".xr-var-list > li:nth-child(odd) > .xr-var-name span {\n",
       "  background-color: var(--xr-background-color-row-odd);\n",
       "}\n",
       "\n",
       ".xr-var-name {\n",
       "  grid-column: 1;\n",
       "}\n",
       "\n",
       ".xr-var-dims {\n",
       "  grid-column: 2;\n",
       "}\n",
       "\n",
       ".xr-var-dtype {\n",
       "  grid-column: 3;\n",
       "  text-align: right;\n",
       "  color: var(--xr-font-color2);\n",
       "}\n",
       "\n",
       ".xr-var-preview {\n",
       "  grid-column: 4;\n",
       "}\n",
       "\n",
       ".xr-index-preview {\n",
       "  grid-column: 2 / 5;\n",
       "  color: var(--xr-font-color2);\n",
       "}\n",
       "\n",
       ".xr-var-name,\n",
       ".xr-var-dims,\n",
       ".xr-var-dtype,\n",
       ".xr-preview,\n",
       ".xr-attrs dt {\n",
       "  white-space: nowrap;\n",
       "  overflow: hidden;\n",
       "  text-overflow: ellipsis;\n",
       "  padding-right: 10px;\n",
       "}\n",
       "\n",
       ".xr-var-name:hover,\n",
       ".xr-var-dims:hover,\n",
       ".xr-var-dtype:hover,\n",
       ".xr-attrs dt:hover {\n",
       "  overflow: visible;\n",
       "  width: auto;\n",
       "  z-index: 1;\n",
       "}\n",
       "\n",
       ".xr-var-attrs,\n",
       ".xr-var-data,\n",
       ".xr-index-data {\n",
       "  display: none;\n",
       "  background-color: var(--xr-background-color) !important;\n",
       "  padding-bottom: 5px !important;\n",
       "}\n",
       "\n",
       ".xr-var-attrs-in:checked ~ .xr-var-attrs,\n",
       ".xr-var-data-in:checked ~ .xr-var-data,\n",
       ".xr-index-data-in:checked ~ .xr-index-data {\n",
       "  display: block;\n",
       "}\n",
       "\n",
       ".xr-var-data > table {\n",
       "  float: right;\n",
       "}\n",
       "\n",
       ".xr-var-name span,\n",
       ".xr-var-data,\n",
       ".xr-index-name div,\n",
       ".xr-index-data,\n",
       ".xr-attrs {\n",
       "  padding-left: 25px !important;\n",
       "}\n",
       "\n",
       ".xr-attrs,\n",
       ".xr-var-attrs,\n",
       ".xr-var-data,\n",
       ".xr-index-data {\n",
       "  grid-column: 1 / -1;\n",
       "}\n",
       "\n",
       "dl.xr-attrs {\n",
       "  padding: 0;\n",
       "  margin: 0;\n",
       "  display: grid;\n",
       "  grid-template-columns: 125px auto;\n",
       "}\n",
       "\n",
       ".xr-attrs dt,\n",
       ".xr-attrs dd {\n",
       "  padding: 0;\n",
       "  margin: 0;\n",
       "  float: left;\n",
       "  padding-right: 10px;\n",
       "  width: auto;\n",
       "}\n",
       "\n",
       ".xr-attrs dt {\n",
       "  font-weight: normal;\n",
       "  grid-column: 1;\n",
       "}\n",
       "\n",
       ".xr-attrs dt:hover span {\n",
       "  display: inline-block;\n",
       "  background: var(--xr-background-color);\n",
       "  padding-right: 10px;\n",
       "}\n",
       "\n",
       ".xr-attrs dd {\n",
       "  grid-column: 2;\n",
       "  white-space: pre-wrap;\n",
       "  word-break: break-all;\n",
       "}\n",
       "\n",
       ".xr-icon-database,\n",
       ".xr-icon-file-text2,\n",
       ".xr-no-icon {\n",
       "  display: inline-block;\n",
       "  vertical-align: middle;\n",
       "  width: 1em;\n",
       "  height: 1.5em !important;\n",
       "  stroke-width: 0;\n",
       "  stroke: currentColor;\n",
       "  fill: currentColor;\n",
       "}\n",
       "</style><pre class='xr-text-repr-fallback'>&lt;xarray.Dataset&gt; Size: 17kB\n",
       "Dimensions:    (longitude: 64, latitude: 33, time: 1)\n",
       "Coordinates:\n",
       "  * longitude  (longitude) float32 256B 0.0 5.625 11.25 ... 343.1 348.8 354.4\n",
       "  * latitude   (latitude) float32 132B 90.0 84.38 78.75 ... -78.75 -84.38 -90.0\n",
       "  * time       (time) datetime64[ns] 8B 1979-01-01T09:00:00\n",
       "Data variables:\n",
       "    lsm        (time, latitude, longitude) float64 17kB 0.0 0.0 0.0 ... 1.0 1.0\n",
       "Attributes:\n",
       "    Conventions:  CF-1.6\n",
       "    history:      2024-04-30 13:38:58 GMT by grib_to_netcdf-2.28.1: /opt/ecmw...</pre><div class='xr-wrap' style='display:none'><div class='xr-header'><div class='xr-obj-type'>xarray.Dataset</div></div><ul class='xr-sections'><li class='xr-section-item'><input id='section-b5e49d8c-0d0c-4375-961f-007f93cda825' class='xr-section-summary-in' type='checkbox' disabled ><label for='section-b5e49d8c-0d0c-4375-961f-007f93cda825' class='xr-section-summary'  title='Expand/collapse section'>Dimensions:</label><div class='xr-section-inline-details'><ul class='xr-dim-list'><li><span class='xr-has-index'>longitude</span>: 64</li><li><span class='xr-has-index'>latitude</span>: 33</li><li><span class='xr-has-index'>time</span>: 1</li></ul></div><div class='xr-section-details'></div></li><li class='xr-section-item'><input id='section-93c0943f-ac3b-4e69-a341-75d088f2074d' class='xr-section-summary-in' type='checkbox'  checked><label for='section-93c0943f-ac3b-4e69-a341-75d088f2074d' class='xr-section-summary' >Coordinates: <span>(3)</span></label><div class='xr-section-inline-details'></div><div class='xr-section-details'><ul class='xr-var-list'><li class='xr-var-item'><div class='xr-var-name'><span class='xr-has-index'>longitude</span></div><div class='xr-var-dims'>(longitude)</div><div class='xr-var-dtype'>float32</div><div class='xr-var-preview xr-preview'>0.0 5.625 11.25 ... 348.8 354.4</div><input id='attrs-936ede9e-721b-401e-bbb0-1fdf500aed5b' class='xr-var-attrs-in' type='checkbox' ><label for='attrs-936ede9e-721b-401e-bbb0-1fdf500aed5b' title='Show/Hide attributes'><svg class='icon xr-icon-file-text2'><use xlink:href='#icon-file-text2'></use></svg></label><input id='data-fc95b4a2-eb9a-4fe0-bf2a-37b02af3e867' class='xr-var-data-in' type='checkbox'><label for='data-fc95b4a2-eb9a-4fe0-bf2a-37b02af3e867' title='Show/Hide data repr'><svg class='icon xr-icon-database'><use xlink:href='#icon-database'></use></svg></label><div class='xr-var-attrs'><dl class='xr-attrs'><dt><span>units :</span></dt><dd>degrees_east</dd><dt><span>long_name :</span></dt><dd>longitude</dd></dl></div><div class='xr-var-data'><pre>array([  0.   ,   5.625,  11.25 ,  16.875,  22.5  ,  28.125,  33.75 ,  39.375,\n",
       "        45.   ,  50.625,  56.25 ,  61.875,  67.5  ,  73.125,  78.75 ,  84.375,\n",
       "        90.   ,  95.625, 101.25 , 106.875, 112.5  , 118.125, 123.75 , 129.375,\n",
       "       135.   , 140.625, 146.25 , 151.875, 157.5  , 163.125, 168.75 , 174.375,\n",
       "       180.   , 185.625, 191.25 , 196.875, 202.5  , 208.125, 213.75 , 219.375,\n",
       "       225.   , 230.625, 236.25 , 241.875, 247.5  , 253.125, 258.75 , 264.375,\n",
       "       270.   , 275.625, 281.25 , 286.875, 292.5  , 298.125, 303.75 , 309.375,\n",
       "       315.   , 320.625, 326.25 , 331.875, 337.5  , 343.125, 348.75 , 354.375],\n",
       "      dtype=float32)</pre></div></li><li class='xr-var-item'><div class='xr-var-name'><span class='xr-has-index'>latitude</span></div><div class='xr-var-dims'>(latitude)</div><div class='xr-var-dtype'>float32</div><div class='xr-var-preview xr-preview'>90.0 84.38 78.75 ... -84.38 -90.0</div><input id='attrs-f4a9deec-bb6b-4264-af0d-5f43edd428dd' class='xr-var-attrs-in' type='checkbox' ><label for='attrs-f4a9deec-bb6b-4264-af0d-5f43edd428dd' title='Show/Hide attributes'><svg class='icon xr-icon-file-text2'><use xlink:href='#icon-file-text2'></use></svg></label><input id='data-02bf469b-e2b0-4821-b6f3-e7f4c280c6bd' class='xr-var-data-in' type='checkbox'><label for='data-02bf469b-e2b0-4821-b6f3-e7f4c280c6bd' title='Show/Hide data repr'><svg class='icon xr-icon-database'><use xlink:href='#icon-database'></use></svg></label><div class='xr-var-attrs'><dl class='xr-attrs'><dt><span>units :</span></dt><dd>degrees_north</dd><dt><span>long_name :</span></dt><dd>latitude</dd></dl></div><div class='xr-var-data'><pre>array([ 90.   ,  84.375,  78.75 ,  73.125,  67.5  ,  61.875,  56.25 ,  50.625,\n",
       "        45.   ,  39.375,  33.75 ,  28.125,  22.5  ,  16.875,  11.25 ,   5.625,\n",
       "         0.   ,  -5.625, -11.25 , -16.875, -22.5  , -28.125, -33.75 , -39.375,\n",
       "       -45.   , -50.625, -56.25 , -61.875, -67.5  , -73.125, -78.75 , -84.375,\n",
       "       -90.   ], dtype=float32)</pre></div></li><li class='xr-var-item'><div class='xr-var-name'><span class='xr-has-index'>time</span></div><div class='xr-var-dims'>(time)</div><div class='xr-var-dtype'>datetime64[ns]</div><div class='xr-var-preview xr-preview'>1979-01-01T09:00:00</div><input id='attrs-f0635b48-664e-4d98-af0f-a4f78c03821d' class='xr-var-attrs-in' type='checkbox' ><label for='attrs-f0635b48-664e-4d98-af0f-a4f78c03821d' title='Show/Hide attributes'><svg class='icon xr-icon-file-text2'><use xlink:href='#icon-file-text2'></use></svg></label><input id='data-b671c37f-bb3a-4695-b49a-53693f7c793e' class='xr-var-data-in' type='checkbox'><label for='data-b671c37f-bb3a-4695-b49a-53693f7c793e' title='Show/Hide data repr'><svg class='icon xr-icon-database'><use xlink:href='#icon-database'></use></svg></label><div class='xr-var-attrs'><dl class='xr-attrs'><dt><span>long_name :</span></dt><dd>time</dd></dl></div><div class='xr-var-data'><pre>array([&#x27;1979-01-01T09:00:00.000000000&#x27;], dtype=&#x27;datetime64[ns]&#x27;)</pre></div></li></ul></div></li><li class='xr-section-item'><input id='section-daeb32be-a3c1-4a32-bb72-9b2eeb4d2a7b' class='xr-section-summary-in' type='checkbox'  checked><label for='section-daeb32be-a3c1-4a32-bb72-9b2eeb4d2a7b' class='xr-section-summary' >Data variables: <span>(1)</span></label><div class='xr-section-inline-details'></div><div class='xr-section-details'><ul class='xr-var-list'><li class='xr-var-item'><div class='xr-var-name'><span>lsm</span></div><div class='xr-var-dims'>(time, latitude, longitude)</div><div class='xr-var-dtype'>float64</div><div class='xr-var-preview xr-preview'>0.0 0.0 0.0 0.0 ... 1.0 1.0 1.0 1.0</div><input id='attrs-f911d4b2-0442-4314-afe1-a146640d5eb1' class='xr-var-attrs-in' type='checkbox' ><label for='attrs-f911d4b2-0442-4314-afe1-a146640d5eb1' title='Show/Hide attributes'><svg class='icon xr-icon-file-text2'><use xlink:href='#icon-file-text2'></use></svg></label><input id='data-e7ca2837-90eb-4b23-8892-7d6bb026b99f' class='xr-var-data-in' type='checkbox'><label for='data-e7ca2837-90eb-4b23-8892-7d6bb026b99f' title='Show/Hide data repr'><svg class='icon xr-icon-database'><use xlink:href='#icon-database'></use></svg></label><div class='xr-var-attrs'><dl class='xr-attrs'><dt><span>units :</span></dt><dd>(0 - 1)</dd><dt><span>long_name :</span></dt><dd>Land-sea mask</dd><dt><span>standard_name :</span></dt><dd>land_binary_mask</dd></dl></div><div class='xr-var-data'><pre>array([[[0.00000000e+00, 0.00000000e+00, 0.00000000e+00, ...,\n",
       "         0.00000000e+00, 0.00000000e+00, 0.00000000e+00],\n",
       "        [0.00000000e+00, 0.00000000e+00, 0.00000000e+00, ...,\n",
       "         0.00000000e+00, 0.00000000e+00, 0.00000000e+00],\n",
       "        [0.00000000e+00, 0.00000000e+00, 3.76009034e-01, ...,\n",
       "         6.40898479e-04, 0.00000000e+00, 0.00000000e+00],\n",
       "        ...,\n",
       "        [1.00000000e+00, 1.00000000e+00, 1.00000000e+00, ...,\n",
       "         1.00000000e+00, 1.00000000e+00, 1.00000000e+00],\n",
       "        [1.00000000e+00, 1.00000000e+00, 1.00000000e+00, ...,\n",
       "         1.00000000e+00, 1.00000000e+00, 1.00000000e+00],\n",
       "        [1.00000000e+00, 1.00000000e+00, 1.00000000e+00, ...,\n",
       "         1.00000000e+00, 1.00000000e+00, 1.00000000e+00]]])</pre></div></li></ul></div></li><li class='xr-section-item'><input id='section-3b203bad-fda9-4618-adaa-9d6acb5cb742' class='xr-section-summary-in' type='checkbox'  ><label for='section-3b203bad-fda9-4618-adaa-9d6acb5cb742' class='xr-section-summary' >Indexes: <span>(3)</span></label><div class='xr-section-inline-details'></div><div class='xr-section-details'><ul class='xr-var-list'><li class='xr-var-item'><div class='xr-index-name'><div>longitude</div></div><div class='xr-index-preview'>PandasIndex</div><div></div><input id='index-e0c6aa8f-070d-4d57-ae7b-ca6d3f27ae7b' class='xr-index-data-in' type='checkbox'/><label for='index-e0c6aa8f-070d-4d57-ae7b-ca6d3f27ae7b' title='Show/Hide index repr'><svg class='icon xr-icon-database'><use xlink:href='#icon-database'></use></svg></label><div class='xr-index-data'><pre>PandasIndex(Index([    0.0,   5.625,   11.25,  16.875,    22.5,  28.125,   33.75,  39.375,\n",
       "          45.0,  50.625,   56.25,  61.875,    67.5,  73.125,   78.75,  84.375,\n",
       "          90.0,  95.625,  101.25, 106.875,   112.5, 118.125,  123.75, 129.375,\n",
       "         135.0, 140.625,  146.25, 151.875,   157.5, 163.125,  168.75, 174.375,\n",
       "         180.0, 185.625,  191.25, 196.875,   202.5, 208.125,  213.75, 219.375,\n",
       "         225.0, 230.625,  236.25, 241.875,   247.5, 253.125,  258.75, 264.375,\n",
       "         270.0, 275.625,  281.25, 286.875,   292.5, 298.125,  303.75, 309.375,\n",
       "         315.0, 320.625,  326.25, 331.875,   337.5, 343.125,  348.75, 354.375],\n",
       "      dtype=&#x27;float32&#x27;, name=&#x27;longitude&#x27;))</pre></div></li><li class='xr-var-item'><div class='xr-index-name'><div>latitude</div></div><div class='xr-index-preview'>PandasIndex</div><div></div><input id='index-810dfa16-7648-4175-bd49-2457d5af9797' class='xr-index-data-in' type='checkbox'/><label for='index-810dfa16-7648-4175-bd49-2457d5af9797' title='Show/Hide index repr'><svg class='icon xr-icon-database'><use xlink:href='#icon-database'></use></svg></label><div class='xr-index-data'><pre>PandasIndex(Index([   90.0,  84.375,   78.75,  73.125,    67.5,  61.875,   56.25,  50.625,\n",
       "          45.0,  39.375,   33.75,  28.125,    22.5,  16.875,   11.25,   5.625,\n",
       "           0.0,  -5.625,  -11.25, -16.875,   -22.5, -28.125,  -33.75, -39.375,\n",
       "         -45.0, -50.625,  -56.25, -61.875,   -67.5, -73.125,  -78.75, -84.375,\n",
       "         -90.0],\n",
       "      dtype=&#x27;float32&#x27;, name=&#x27;latitude&#x27;))</pre></div></li><li class='xr-var-item'><div class='xr-index-name'><div>time</div></div><div class='xr-index-preview'>PandasIndex</div><div></div><input id='index-78cdc751-ff57-4e23-8560-6c05aafd0441' class='xr-index-data-in' type='checkbox'/><label for='index-78cdc751-ff57-4e23-8560-6c05aafd0441' title='Show/Hide index repr'><svg class='icon xr-icon-database'><use xlink:href='#icon-database'></use></svg></label><div class='xr-index-data'><pre>PandasIndex(DatetimeIndex([&#x27;1979-01-01 09:00:00&#x27;], dtype=&#x27;datetime64[ns]&#x27;, name=&#x27;time&#x27;, freq=None))</pre></div></li></ul></div></li><li class='xr-section-item'><input id='section-8dc8a0e5-917f-409a-828a-9040b3720234' class='xr-section-summary-in' type='checkbox'  checked><label for='section-8dc8a0e5-917f-409a-828a-9040b3720234' class='xr-section-summary' >Attributes: <span>(2)</span></label><div class='xr-section-inline-details'></div><div class='xr-section-details'><dl class='xr-attrs'><dt><span>Conventions :</span></dt><dd>CF-1.6</dd><dt><span>history :</span></dt><dd>2024-04-30 13:38:58 GMT by grib_to_netcdf-2.28.1: /opt/ecmwf/mars-client/bin/grib_to_netcdf -S param -o /cache/data0/adaptor.mars.external-1714484338.3581338-30685-12-4a2f377c-4600-433d-998b-639db9d6767d.nc /cache/tmp/4a2f377c-4600-433d-998b-639db9d6767d-adaptor.mars.external-1714484337.2948027-30685-7-tmp.grib</dd></dl></div></li></ul></div></div>"
      ],
      "text/plain": [
       "<xarray.Dataset> Size: 17kB\n",
       "Dimensions:    (longitude: 64, latitude: 33, time: 1)\n",
       "Coordinates:\n",
       "  * longitude  (longitude) float32 256B 0.0 5.625 11.25 ... 343.1 348.8 354.4\n",
       "  * latitude   (latitude) float32 132B 90.0 84.38 78.75 ... -78.75 -84.38 -90.0\n",
       "  * time       (time) datetime64[ns] 8B 1979-01-01T09:00:00\n",
       "Data variables:\n",
       "    lsm        (time, latitude, longitude) float64 17kB 0.0 0.0 0.0 ... 1.0 1.0\n",
       "Attributes:\n",
       "    Conventions:  CF-1.6\n",
       "    history:      2024-04-30 13:38:58 GMT by grib_to_netcdf-2.28.1: /opt/ecmw..."
      ]
     },
     "execution_count": 43,
     "metadata": {},
     "output_type": "execute_result"
    }
   ],
   "source": [
    "lsm    = xr.open_dataset(root_era5+'lsm_5.625deg.nc').load()\n",
    "lsm"
   ]
  },
  {
   "cell_type": "code",
   "execution_count": 55,
   "metadata": {},
   "outputs": [
    {
     "data": {
      "text/plain": [
       "(33, 64)"
      ]
     },
     "execution_count": 55,
     "metadata": {},
     "output_type": "execute_result"
    }
   ],
   "source": [
    "xr.where(lsm>0.5,0,1)['lsm'].values[0,:,:].shape"
   ]
  },
  {
   "cell_type": "code",
   "execution_count": 8,
   "metadata": {
    "id": "ePxVJEMChpGd"
   },
   "outputs": [],
   "source": [
    "# create daily climatology\n",
    "sst_clim    = sst.groupby('time.dayofyear').mean()\n",
    "siconc_clim = siconc.groupby('time.dayofyear').mean()\n",
    "\n",
    "# fill nan values in datasets - otherwise no learning possible\n",
    "sst = sst.fillna(sst_clim.sel(dayofyear=sst.time.dt.dayofyear))\n",
    "siconc = siconc.fillna(siconc_clim.sel(dayofyear=siconc.time.dt.dayofyear))"
   ]
  },
  {
   "cell_type": "code",
   "execution_count": 9,
   "metadata": {
    "colab": {
     "base_uri": "https://localhost:8080/",
     "height": 489
    },
    "id": "S0fWGb7BlwO8",
    "outputId": "1f71caba-9fcd-4014-e5c4-4de6551c5352"
   },
   "outputs": [
    {
     "data": {
      "text/plain": [
       "<matplotlib.collections.QuadMesh at 0x7ff992721720>"
      ]
     },
     "execution_count": 9,
     "metadata": {},
     "output_type": "execute_result"
    },
    {
     "data": {
      "image/png": "[encoded data removed]",
      "text/plain": [
       "<Figure size 432x288 with 2 Axes>"
      ]
     },
     "metadata": {},
     "output_type": "display_data"
    }
   ],
   "source": [
    "lsm.lsm.isel(time=0).plot()"
   ]
  },
  {
   "cell_type": "code",
   "execution_count": 10,
   "metadata": {
    "id": "KrRYCZ-Cjz5z"
   },
   "outputs": [],
   "source": [
    "# create strict land sea mask\n",
    "slm = xr.where(lsm>0.5,0,1)['lsm'].values[0,:,:]\n",
    "lsm = xr.where(lsm<0.5,0,1)['lsm'].values[0,:,:]"
   ]
  },
  {
   "cell_type": "code",
   "execution_count": 11,
   "metadata": {
    "colab": {
     "base_uri": "https://localhost:8080/",
     "height": 619
    },
    "id": "NgrurSZyl-DN",
    "outputId": "a8fa5350-2722-4600-ada6-ad3d7b4ea2f8"
   },
   "outputs": [
    {
     "data": {
      "image/png": "[encoded data removed]",
      "text/plain": [
       "<Figure size 432x288 with 1 Axes>"
      ]
     },
     "metadata": {},
     "output_type": "display_data"
    },
    {
     "data": {
      "image/png": "[encoded data removed]",
      "text/plain": [
       "<Figure size 432x288 with 1 Axes>"
      ]
     },
     "metadata": {},
     "output_type": "display_data"
    }
   ],
   "source": [
    "plt.imshow(slm)\n",
    "plt.show()\n",
    "plt.imshow(lsm)\n",
    "plt.show()"
   ]
  },
  {
   "cell_type": "markdown",
   "metadata": {
    "id": "786XL6PanDFF"
   },
   "source": [
    "## create the training data"
   ]
  },
  {
   "cell_type": "code",
   "execution_count": 12,
   "metadata": {
    "id": "X575SxFWnaPU"
   },
   "outputs": [],
   "source": [
    "data = xr.merge([sst, siconc])"
   ]
  },
  {
   "cell_type": "code",
   "execution_count": 13,
   "metadata": {
    "id": "geMQgRgWoJDm"
   },
   "outputs": [],
   "source": [
    "# training dataset selection\n",
    "train_years = slice('1979', '1982')\n",
    "# validation dataset selection (this dataset helps with overfitting)\n",
    "valid_years = slice('1982', '1983')\n",
    "# test dataset selection\n",
    "test_years = slice('1983', '1984')"
   ]
  },
  {
   "cell_type": "code",
   "execution_count": 14,
   "metadata": {
    "id": "OQGPcVwio8uH"
   },
   "outputs": [],
   "source": [
    "# pick the forecast lead time\n",
    "lead_time_steps = 5 # 5 day forecast considering one time step"
   ]
  },
  {
   "cell_type": "code",
   "execution_count": 15,
   "metadata": {
    "id": "-E9DXyLymMnC"
   },
   "outputs": [],
   "source": [
    "def get_train_valid_test_dataset(lead_steps, datasets, variables):\n",
    "  # create lists\n",
    "  X_train = []\n",
    "  Y_train = []\n",
    "  X_valid = []\n",
    "  Y_valid = []\n",
    "  X_test  = []\n",
    "  Y_test  = []\n",
    "  mean    = np.zeros(len(datasets))\n",
    "  std     = np.zeros(len(datasets))\n",
    "\n",
    "  # iterate over index\n",
    "  for i, d in enumerate(datasets):\n",
    "\n",
    "    # Split train, valid and test dataset\n",
    "    train_d = d.sel(time=train_years)\n",
    "    valid_d = d.sel(time=valid_years)\n",
    "    test_d  = d.sel(time=test_years)\n",
    "\n",
    "    # Normalize the data using the mean and standard deviation of the training data\n",
    "    mean[i] = d.mean()[variables[i]].values\n",
    "    std[i]  = d.std()[variables[i]].values\n",
    "\n",
    "    train_d = (train_d - mean[i]) / std[i]\n",
    "    valid_d = (valid_d - mean[i]) / std[i]\n",
    "    test_d  = (test_d  - mean[i]) / std[i]\n",
    "\n",
    "    #mean = mean['sst'].values # extract numerical value from xarray Dataset\n",
    "    #std = std['sst'].values # extract numerical value from xarray Dataset\n",
    "\n",
    "    # Create inputs and outputs that are shifted by lead_steps\n",
    "    X_train.append(getattr(train_d, variables[i]).isel(time=slice(None, -lead_steps)).values[..., None])\n",
    "    Y_train.append(getattr(train_d, variables[i]).isel(time=slice(lead_steps, None)).values[..., None])\n",
    "    X_valid.append(getattr(valid_d, variables[i]).isel(time=slice(None, -lead_steps)).values[..., None])\n",
    "    Y_valid.append(getattr(valid_d, variables[i]).isel(time=slice(lead_steps, None)).values[..., None])\n",
    "    X_test.append(getattr(test_d, variables[i]).isel(time=slice(None, -lead_steps)).values[..., None])\n",
    "    Y_test.append(getattr(test_d, variables[i]).isel(time=slice(lead_steps, None)).values[..., None])\n",
    "\n",
    "  # concatenate training data for multi layer input\n",
    "  X_train = np.concatenate(X_train, axis = 3)\n",
    "  Y_train = np.concatenate(Y_train, axis = 3)\n",
    "  X_valid = np.concatenate(X_valid, axis = 3)\n",
    "  Y_valid = np.concatenate(Y_valid, axis = 3)\n",
    "  X_test  = np.concatenate(X_test, axis = 3)\n",
    "  Y_test  = np.concatenate(Y_test, axis = 3)\n",
    "\n",
    "  return X_train, Y_train, X_valid, Y_valid, X_test, Y_test, mean, std"
   ]
  },
  {
   "cell_type": "code",
   "execution_count": 16,
   "metadata": {
    "colab": {
     "base_uri": "https://localhost:8080/"
    },
    "id": "1RHohvtDncbX",
    "outputId": "0ec86d55-9253-4b61-ac26-f1e8ad2001cd"
   },
   "outputs": [
    {
     "name": "stdout",
     "output_type": "stream",
     "text": [
      "(1456, 33, 64, 2)\n",
      "(1456, 33, 64, 2)\n",
      "(725, 33, 64, 2)\n",
      "(725, 33, 64, 2)\n",
      "(726, 33, 64, 2)\n",
      "(726, 33, 64, 2)\n"
     ]
    }
   ],
   "source": [
    "X_train, Y_train, X_valid, Y_valid, X_test, Y_test, mean, std = get_train_valid_test_dataset(lead_time_steps, [sst, siconc], ['sst', 'siconc'])\n",
    "print(X_train.shape)\n",
    "print(Y_train.shape)\n",
    "print(X_valid.shape)\n",
    "print(Y_valid.shape)\n",
    "print(X_test.shape)\n",
    "print(Y_test.shape)"
   ]
  },
  {
   "cell_type": "markdown",
   "metadata": {
    "id": "1p34prBv8Dnt"
   },
   "source": [
    "## Periodic CNN Network\n",
    "Copy multiple classes from weatherBench publication"
   ]
  },
  {
   "cell_type": "code",
   "execution_count": 17,
   "metadata": {
    "id": "DTQ8M_WD760o"
   },
   "outputs": [],
   "source": [
    "class PeriodicPadding2D(tf.keras.layers.Layer):\n",
    "    def __init__(self, pad_width, **kwargs):\n",
    "        super().__init__(**kwargs)\n",
    "        self.pad_width = pad_width\n",
    "\n",
    "    def call(self, inputs, **kwargs):\n",
    "        if self.pad_width == 0:\n",
    "            return inputs\n",
    "        inputs_padded = tf.concat(\n",
    "            [inputs[:, :, -self.pad_width:, :], inputs, inputs[:, :, :self.pad_width, :]], axis=2)\n",
    "        # Zero padding in the lat direction\n",
    "        inputs_padded = tf.pad(inputs_padded, [[0, 0], [self.pad_width, self.pad_width], [0, 0], [0, 0]])\n",
    "        return inputs_padded\n",
    "\n",
    "    def get_config(self):\n",
    "        config = super().get_config()\n",
    "        config.update({'pad_width': self.pad_width})\n",
    "        return config\n",
    "\n",
    "\n",
    "class PeriodicConv2D(tf.keras.layers.Layer):\n",
    "    def __init__(self, filters,\n",
    "                 kernel_size,\n",
    "                 conv_kwargs={},\n",
    "                 **kwargs, ):\n",
    "        super().__init__(**kwargs)\n",
    "        self.filters = filters\n",
    "        self.kernel_size = kernel_size\n",
    "        self.conv_kwargs = conv_kwargs\n",
    "        if type(kernel_size) is not int:\n",
    "            assert kernel_size[0] == kernel_size[1], 'PeriodicConv2D only works for square kernels'\n",
    "            kernel_size = kernel_size[0]\n",
    "        pad_width = (kernel_size - 1) // 2\n",
    "        self.padding = PeriodicPadding2D(pad_width)\n",
    "        self.conv = Conv2D(\n",
    "            filters, kernel_size, padding='valid', **conv_kwargs\n",
    "        )\n",
    "\n",
    "    def call(self, inputs):\n",
    "        return self.conv(self.padding(inputs))\n",
    "\n",
    "    def get_config(self):\n",
    "        config = super().get_config()\n",
    "        config.update({'filters': self.filters, 'kernel_size': self.kernel_size, 'conv_kwargs': self.conv_kwargs})\n",
    "        return config\n",
    "\n",
    "# outside of Class\n",
    "def build_cnn(filters, kernels, input_shape, dr=0):\n",
    "    \"\"\"Fully convolutional network\"\"\"\n",
    "    x = input = Input(shape=input_shape)\n",
    "    for f, k in zip(filters[:-1], kernels[:-1]):\n",
    "        x = PeriodicConv2D(f, k)(x)\n",
    "        x = LeakyReLU()(x)\n",
    "        if dr > 0: x = Dropout(dr)(x)\n",
    "    output = PeriodicConv2D(filters[-1], kernels[-1])(x)\n",
    "    return keras.models.Model(input, output)"
   ]
  },
  {
   "cell_type": "code",
   "execution_count": 18,
   "metadata": {
    "colab": {
     "base_uri": "https://localhost:8080/"
    },
    "id": "QyDLbVNu8yew",
    "outputId": "4c13915e-eed1-41f4-9e5f-d66c87e9daa7"
   },
   "outputs": [],
   "source": [
    "# set up test model\n",
    "#test_model = build_cnn([64, 64, 64, 64, 2], [5, 5, 5, 5, 5], (33, 64, 2))\n",
    "#test_model.compile(keras.optimizers.Adam(1e-4), 'mse')\n",
    "#test_model.summary()"
   ]
  },
  {
   "cell_type": "code",
   "execution_count": 19,
   "metadata": {
    "colab": {
     "base_uri": "https://localhost:8080/"
    },
    "id": "oQmq_2qK9NB5",
    "outputId": "bd71ac10-8f8d-4b53-f5ad-536143d8307e"
   },
   "outputs": [],
   "source": [
    "# try to feed training data\n",
    "#test_model.fit(X_train, Y_train, batch_size= 128, epochs=1)"
   ]
  },
  {
   "cell_type": "code",
   "execution_count": 20,
   "metadata": {
    "colab": {
     "base_uri": "https://localhost:8080/"
    },
    "id": "CPFW2MHw_gaZ",
    "outputId": "5cdcdcbc-ed7b-4a3b-a8fc-9f41f929333a"
   },
   "outputs": [],
   "source": [
    "# Convert predictions backto xarray\n",
    "#pred_test = X_test[:, :, :, :].copy()\n",
    "#pred_test = test_model.predict(X_test[0:2,:,:,:])#.squeeze()   # To remove channel dimension which is 1"
   ]
  },
  {
   "cell_type": "code",
   "execution_count": 21,
   "metadata": {
    "colab": {
     "base_uri": "https://localhost:8080/",
     "height": 335
    },
    "id": "pPiLJ5JxAq2P",
    "outputId": "13fd042a-23eb-41e7-8702-e4bb8165ebf8"
   },
   "outputs": [],
   "source": [
    "#plt.imshow(pred_test[1,:,:,0]*slm)"
   ]
  },
  {
   "cell_type": "markdown",
   "metadata": {
    "id": "S26zmZkPC7f6"
   },
   "source": [
    "## create personal loss function"
   ]
  },
  {
   "cell_type": "code",
   "execution_count": 22,
   "metadata": {
    "colab": {
     "base_uri": "https://localhost:8080/"
    },
    "id": "ILtQXjDBmcYU",
    "outputId": "1e67e3f9-f0bd-4d0b-a166-4d8aa6bf5457"
   },
   "outputs": [
    {
     "data": {
      "text/plain": [
       "TensorShape([33, 64, 2])"
      ]
     },
     "execution_count": 22,
     "metadata": {},
     "output_type": "execute_result"
    }
   ],
   "source": [
    "K.constant(np.stack([lsm,lsm],axis=2)).shape"
   ]
  },
  {
   "cell_type": "code",
   "execution_count": 23,
   "metadata": {
    "id": "PAQeqJaRCTeG"
   },
   "outputs": [],
   "source": [
    "def lsm_loss(y_true, y_pred, lsm=slm):\n",
    "  #print(y_true.shape)\n",
    "  lsm = K.constant(np.stack([lsm,lsm],axis=2))\n",
    "  y_true = y_true * lsm\n",
    "  y_pred = y_pred * lsm\n",
    "\n",
    "  return K.sqrt(K.mean(K.square(y_true-y_pred)))"
   ]
  },
  {
   "cell_type": "code",
   "execution_count": 25,
   "metadata": {
    "colab": {
     "base_uri": "https://localhost:8080/"
    },
    "id": "_wVB5HTuLYth",
    "outputId": "0709f06e-34ec-42df-9951-e4c421a687d1"
   },
   "outputs": [],
   "source": [
    "#lsm_loss(pred_test[0,:,:,:], pred_test[0,:,:,:]+1)"
   ]
  },
  {
   "cell_type": "code",
   "execution_count": 26,
   "metadata": {
    "colab": {
     "base_uri": "https://localhost:8080/"
    },
    "id": "eEsy5RYWFE6x",
    "outputId": "e2fc3f73-9a3a-4eee-b128-2fad43e0a20f"
   },
   "outputs": [],
   "source": [
    "# another test model\n",
    "#test_model_mask = build_cnn([64, 64, 64, 64, 2], [5, 5, 5, 5, 5], (33, 64, 2))\n",
    "#test_model_mask.compile(keras.optimizers.Adam(1e-4), loss=lsm_loss)\n",
    "#test_model_mask.summary()"
   ]
  },
  {
   "cell_type": "code",
   "execution_count": 27,
   "metadata": {
    "colab": {
     "base_uri": "https://localhost:8080/"
    },
    "id": "QGgaUDZcLJbK",
    "outputId": "8acb63e9-78db-4789-b885-c9984963174a"
   },
   "outputs": [],
   "source": [
    "# try to feed training data\n",
    "#test_model_mask.fit(X_train, Y_train, batch_size= 128, epochs=1)"
   ]
  },
  {
   "cell_type": "code",
   "execution_count": 28,
   "metadata": {
    "colab": {
     "base_uri": "https://localhost:8080/"
    },
    "id": "LUn4X3CwGPDW",
    "outputId": "24f3003e-1fc1-4eb4-deb5-3b221cda9d67"
   },
   "outputs": [],
   "source": [
    "#pred_test_mask = test_model_mask.predict(X_test[0:2,:,:,:])"
   ]
  },
  {
   "cell_type": "code",
   "execution_count": 29,
   "metadata": {
    "colab": {
     "base_uri": "https://localhost:8080/",
     "height": 636
    },
    "id": "iB5HvBFhGWtr",
    "outputId": "8a17991e-37ed-41df-8743-a24b1441ec05"
   },
   "outputs": [],
   "source": [
    "#plt.imshow(pred_test_mask[1,:,:,1]*slm)\n",
    "#plt.show()\n",
    "#plt.imshow(pred_test[1,:,:,1]*slm)"
   ]
  },
  {
   "cell_type": "code",
   "execution_count": 30,
   "metadata": {
    "colab": {
     "base_uri": "https://localhost:8080/",
     "height": 335
    },
    "id": "x7eicbpkPcOv",
    "outputId": "0df69887-ee63-4d9e-8330-76971719c7f4"
   },
   "outputs": [],
   "source": [
    "#plt.imshow(slm)"
   ]
  },
  {
   "cell_type": "code",
   "execution_count": null,
   "metadata": {
    "id": "W6CUu6QFFcNq"
   },
   "outputs": [],
   "source": []
  },
  {
   "cell_type": "code",
   "execution_count": 31,
   "metadata": {
    "colab": {
     "base_uri": "https://localhost:8080/"
    },
    "id": "PZWM7f3pQGof",
    "outputId": "db21b618-871c-4a40-976c-d18692832e4f"
   },
   "outputs": [
    {
     "name": "stdout",
     "output_type": "stream",
     "text": [
      "Model: \"model\"\n",
      "_________________________________________________________________\n",
      " Layer (type)                Output Shape              Param #   \n",
      "=================================================================\n",
      " input_1 (InputLayer)        [(None, 33, 64, 4)]       0         \n",
      "                                                                 \n",
      " periodic_conv2d (PeriodicC  (None, 33, 64, 64)        6464      \n",
      " onv2D)                                                          \n",
      "                                                                 \n",
      " leaky_re_lu (LeakyReLU)     (None, 33, 64, 64)        0         \n",
      "                                                                 \n",
      " periodic_conv2d_1 (Periodi  (None, 33, 64, 64)        102464    \n",
      " cConv2D)                                                        \n",
      "                                                                 \n",
      " leaky_re_lu_1 (LeakyReLU)   (None, 33, 64, 64)        0         \n",
      "                                                                 \n",
      " periodic_conv2d_2 (Periodi  (None, 33, 64, 64)        102464    \n",
      " cConv2D)                                                        \n",
      "                                                                 \n",
      " leaky_re_lu_2 (LeakyReLU)   (None, 33, 64, 64)        0         \n",
      "                                                                 \n",
      " periodic_conv2d_3 (Periodi  (None, 33, 64, 64)        102464    \n",
      " cConv2D)                                                        \n",
      "                                                                 \n",
      " leaky_re_lu_3 (LeakyReLU)   (None, 33, 64, 64)        0         \n",
      "                                                                 \n",
      " periodic_conv2d_4 (Periodi  (None, 33, 64, 4)         6404      \n",
      " cConv2D)                                                        \n",
      "                                                                 \n",
      "=================================================================\n",
      "Total params: 320260 (1.22 MB)\n",
      "Trainable params: 320260 (1.22 MB)\n",
      "Non-trainable params: 0 (0.00 Byte)\n",
      "_________________________________________________________________\n"
     ]
    }
   ],
   "source": [
    "# What needds to be changed for 4D input and output\n",
    "test_model_4D = build_cnn([64, 64, 64, 64, 4], [5, 5, 5, 5, 5], (33, 64, 4))\n",
    "test_model_4D.compile(keras.optimizers.Adam(1e-4), loss=lsm_loss)\n",
    "test_model_4D.summary()"
   ]
  },
  {
   "cell_type": "code",
   "execution_count": 32,
   "metadata": {
    "id": "NemX5M8RJWRR"
   },
   "outputs": [],
   "source": [
    "# Does it make sense to create Classes for Ocean/Land/Atmosphere and complete set up?"
   ]
  },
  {
   "cell_type": "code",
   "execution_count": 33,
   "metadata": {
    "colab": {
     "base_uri": "https://localhost:8080/"
    },
    "id": "3cr6MKSKJ47s",
    "outputId": "fe491124-a6d8-475a-996d-ef32983dd0fc"
   },
   "outputs": [
    {
     "name": "stdout",
     "output_type": "stream",
     "text": [
      "Model: \"model_1\"\n",
      "_________________________________________________________________\n",
      " Layer (type)                Output Shape              Param #   \n",
      "=================================================================\n",
      " input_2 (InputLayer)        [(None, 33, 64, 2)]       0         \n",
      "                                                                 \n",
      " periodic_conv2d_5 (Periodi  (None, 33, 64, 64)        3264      \n",
      " cConv2D)                                                        \n",
      "                                                                 \n",
      " leaky_re_lu_4 (LeakyReLU)   (None, 33, 64, 64)        0         \n",
      "                                                                 \n",
      " periodic_conv2d_6 (Periodi  (None, 33, 64, 2)         3202      \n",
      " cConv2D)                                                        \n",
      "                                                                 \n",
      "=================================================================\n",
      "Total params: 6466 (25.26 KB)\n",
      "Trainable params: 6466 (25.26 KB)\n",
      "Non-trainable params: 0 (0.00 Byte)\n",
      "_________________________________________________________________\n"
     ]
    }
   ],
   "source": [
    "test_model_eff = build_cnn([64, 2], [5, 5], (33, 64, 2))\n",
    "test_model_eff.compile(keras.optimizers.Adam(1e-4), loss=lsm_loss)\n",
    "test_model_eff.summary()"
   ]
  },
  {
   "cell_type": "code",
   "execution_count": 36,
   "metadata": {
    "colab": {
     "base_uri": "https://localhost:8080/"
    },
    "id": "d9DuQNLRbdMs",
    "outputId": "6fda3465-2ead-4753-e989-dbb5d84bb33f"
   },
   "outputs": [
    {
     "metadata": {
      "tags": null
     },
     "name": "stdout",
     "output_type": "stream",
     "text": [
      "Epoch 1/5\n",
      "12/12 [==============================] - 30s 2s/step - loss: 0.7716\n",
      "Epoch 2/5\n",
      "12/12 [==============================] - 29s 2s/step - loss: 0.5729\n",
      "Epoch 3/5\n",
      "12/12 [==============================] - 27s 2s/step - loss: 0.4455\n",
      "Epoch 4/5\n",
      "12/12 [==============================] - 29s 2s/step - loss: 0.3746\n",
      "Epoch 5/5\n",
      "12/12 [==============================] - 26s 2s/step - loss: 0.3265\n"
     ]
    },
    {
     "data": {
      "text/plain": [
       "<keras.src.callbacks.History at 0x7a7cd31a1540>"
      ]
     },
     "execution_count": 36,
     "metadata": {},
     "output_type": "execute_result"
    }
   ],
   "source": [
    "test_model_eff.fit(X_train, Y_train, batch_size= 128, epochs=5)"
   ]
  },
  {
   "cell_type": "code",
   "execution_count": null,
   "metadata": {
    "id": "DUGGxnAeeUlB"
   },
   "outputs": [],
   "source": [
    "# run model multiple times and save development of RMSE for validation/training dataset"
   ]
  },
  {
   "cell_type": "code",
   "execution_count": 38,
   "metadata": {
    "colab": {
     "base_uri": "https://localhost:8080/"
    },
    "id": "cqCEZf8xj9yV",
    "outputId": "63bb59ae-e2ed-4b8a-ce69-9956d18a7a05"
   },
   "outputs": [
    {
     "name": "stdout",
     "output_type": "stream",
     "text": [
      "23/23 [==============================] - 4s 160ms/step\n"
     ]
    }
   ],
   "source": [
    "pred_valid_model_eff = test_model_eff.predict(X_valid)"
   ]
  },
  {
   "cell_type": "code",
   "execution_count": 65,
   "metadata": {
    "id": "Jz3PejPdlV2P"
   },
   "outputs": [],
   "source": [
    "diff = pred_valid_model_eff*np.stack([lsm,lsm],axis=2)-Y_valid*np.stack([lsm,lsm],axis=2)"
   ]
  },
  {
   "cell_type": "code",
   "execution_count": 81,
   "metadata": {
    "colab": {
     "base_uri": "https://localhost:8080/"
    },
    "id": "LRclG6y5n22a",
    "outputId": "4cd4dd21-f2dd-4a70-f809-0693f9e2d58a"
   },
   "outputs": [
    {
     "data": {
      "text/plain": [
       "0.41650876868464715"
      ]
     },
     "execution_count": 81,
     "metadata": {},
     "output_type": "execute_result"
    }
   ],
   "source": [
    "np.sqrt(np.mean(np.square(diff[:,:,:,:])))"
   ]
  },
  {
   "cell_type": "code",
   "execution_count": 75,
   "metadata": {
    "id": "9wAel8xlszvb"
   },
   "outputs": [],
   "source": [
    "rmse_train = []\n",
    "rmse_valid = []\n",
    "\n",
    "rmse_train_var = [[],[]]\n",
    "rmse_valid_var = [[],[]]"
   ]
  },
  {
   "cell_type": "code",
   "execution_count": 89,
   "metadata": {
    "colab": {
     "base_uri": "https://localhost:8080/"
    },
    "id": "yUUR6Ge8reky",
    "outputId": "f1f0fe16-112e-4f29-c54b-4db40f064b0c"
   },
   "outputs": [
    {
     "name": "stdout",
     "output_type": "stream",
     "text": [
      "Epoch 1/5\n",
      "12/12 [==============================] - 28s 2s/step - loss: 0.0863\n",
      "Epoch 2/5\n",
      "12/12 [==============================] - 27s 2s/step - loss: 0.0861\n",
      "Epoch 3/5\n",
      "12/12 [==============================] - 28s 2s/step - loss: 0.0859\n",
      "Epoch 4/5\n",
      "12/12 [==============================] - 28s 2s/step - loss: 0.0857\n",
      "Epoch 5/5\n",
      "12/12 [==============================] - 26s 2s/step - loss: 0.0855\n",
      "46/46 [==============================] - 4s 91ms/step\n",
      "23/23 [==============================] - 3s 118ms/step\n",
      "Epoch 1/5\n",
      "12/12 [==============================] - 27s 2s/step - loss: 0.0854\n",
      "Epoch 2/5\n",
      "12/12 [==============================] - 27s 2s/step - loss: 0.0852\n",
      "Epoch 3/5\n",
      "12/12 [==============================] - 25s 2s/step - loss: 0.0851\n",
      "Epoch 4/5\n",
      "12/12 [==============================] - 27s 2s/step - loss: 0.0849\n",
      "Epoch 5/5\n",
      "12/12 [==============================] - 27s 2s/step - loss: 0.0848\n",
      "46/46 [==============================] - 6s 137ms/step\n",
      "23/23 [==============================] - 2s 90ms/step\n",
      "Epoch 1/5\n",
      "12/12 [==============================] - 26s 2s/step - loss: 0.0847\n",
      "Epoch 2/5\n",
      "12/12 [==============================] - 26s 2s/step - loss: 0.0846\n",
      "Epoch 3/5\n",
      "12/12 [==============================] - 27s 2s/step - loss: 0.0845\n",
      "Epoch 4/5\n",
      "12/12 [==============================] - 25s 2s/step - loss: 0.0844\n",
      "Epoch 5/5\n",
      "12/12 [==============================] - 26s 2s/step - loss: 0.0843\n",
      "46/46 [==============================] - 4s 86ms/step\n",
      "23/23 [==============================] - 3s 150ms/step\n",
      "Epoch 1/5\n",
      "12/12 [==============================] - 25s 2s/step - loss: 0.0842\n",
      "Epoch 2/5\n",
      "12/12 [==============================] - 27s 2s/step - loss: 0.0841\n",
      "Epoch 3/5\n",
      "12/12 [==============================] - 27s 2s/step - loss: 0.0840\n",
      "Epoch 4/5\n",
      "12/12 [==============================] - 25s 2s/step - loss: 0.0839\n",
      "Epoch 5/5\n",
      "12/12 [==============================] - 27s 2s/step - loss: 0.0839\n",
      "46/46 [==============================] - 4s 89ms/step\n",
      "23/23 [==============================] - 4s 154ms/step\n",
      "Epoch 1/5\n",
      "12/12 [==============================] - 25s 2s/step - loss: 0.0838\n",
      "Epoch 2/5\n",
      "12/12 [==============================] - 28s 2s/step - loss: 0.0837\n",
      "Epoch 3/5\n",
      "12/12 [==============================] - 27s 2s/step - loss: 0.0836\n",
      "Epoch 4/5\n",
      "12/12 [==============================] - 25s 2s/step - loss: 0.0836\n",
      "Epoch 5/5\n",
      "12/12 [==============================] - 27s 2s/step - loss: 0.0835\n",
      "46/46 [==============================] - 4s 89ms/step\n",
      "23/23 [==============================] - 2s 88ms/step\n"
     ]
    }
   ],
   "source": [
    "for i in range(5):\n",
    "  # keep on training the model\n",
    "  test_model_eff.fit(X_train, Y_train, batch_size= 128, epochs=5)\n",
    "\n",
    "  # predict\n",
    "  pred_train = test_model_eff.predict(X_train)\n",
    "  pred_valid = test_model_eff.predict(X_valid)\n",
    "\n",
    "  # apply mask and compute residuals\n",
    "  e_train = pred_train*np.stack([lsm,lsm],axis=2)-Y_train*np.stack([lsm,lsm],axis=2)\n",
    "  e_valid = pred_valid*np.stack([lsm,lsm],axis=2)-Y_valid*np.stack([lsm,lsm],axis=2)\n",
    "\n",
    "  # compute rmse overall\n",
    "  rmse_train.append(np.sqrt(np.mean(np.square(e_train))))\n",
    "  rmse_valid.append(np.sqrt(np.mean(np.square(e_valid))))\n",
    "\n",
    "  # rmse for seperate variables\n",
    "  for v in range(2):\n",
    "    rmse_train_var[v].append(np.sqrt(np.mean(np.square(e_train[:,:,:,v]))))\n",
    "    rmse_valid_var[v].append(np.sqrt(np.mean(np.square(e_valid[:,:,:,v]))))"
   ]
  },
  {
   "cell_type": "code",
   "execution_count": 90,
   "metadata": {
    "colab": {
     "base_uri": "https://localhost:8080/"
    },
    "id": "RinHWsoWwHwb",
    "outputId": "7e0154f8-9f6c-4f0e-fe77-fdb68d69061d"
   },
   "outputs": [
    {
     "data": {
      "text/plain": [
       "([0.41650876868464715,\n",
       "  0.31805273622829355,\n",
       "  0.28215026713992347,\n",
       "  0.249501735310279,\n",
       "  0.21756147019848726,\n",
       "  0.18806905608804816,\n",
       "  0.16272018615341707,\n",
       "  0.14325672420282168,\n",
       "  0.12882883169244502,\n",
       "  0.11864016078909229,\n",
       "  0.11118325922769587,\n",
       "  0.1051737212849208,\n",
       "  0.10106855683292454,\n",
       "  0.0974282975656895,\n",
       "  0.0945393996574647,\n",
       "  0.09229507733287844],\n",
       " [0.41464379808474394,\n",
       "  0.3162449505111048,\n",
       "  0.280709923695233,\n",
       "  0.24823942243919503,\n",
       "  0.21640086193980873,\n",
       "  0.18699008945870033,\n",
       "  0.16172544853775045,\n",
       "  0.14234780186974402,\n",
       "  0.12799438628455234,\n",
       "  0.11787143633864389,\n",
       "  0.11047134289816402,\n",
       "  0.1045134265517733,\n",
       "  0.1004480103566061,\n",
       "  0.09684300260710384,\n",
       "  0.09398171178051591,\n",
       "  0.09175671315011465])"
      ]
     },
     "execution_count": 90,
     "metadata": {},
     "output_type": "execute_result"
    }
   ],
   "source": [
    "rmse_valid, rmse_train"
   ]
  },
  {
   "cell_type": "code",
   "execution_count": 124,
   "metadata": {
    "colab": {
     "base_uri": "https://localhost:8080/",
     "height": 449
    },
    "id": "1kyUT1-58VGa",
    "outputId": "164ebf4e-96b2-4862-f7dd-a7d0da79cfdd"
   },
   "outputs": [
    {
     "data": {
      "image/png": "[encoded data removed]",
      "text/plain": [
       "<Figure size 640x480 with 1 Axes>"
      ]
     },
     "metadata": {},
     "output_type": "display_data"
    }
   ],
   "source": [
    "plt.plot(rmse_valid, label='validation_overall')\n",
    "plt.plot(rmse_train, label='training_overall')\n",
    "plt.plot(rmse_valid_var[0], label='sst_valid')\n",
    "plt.plot(rmse_train_var[0], label='sst_train')\n",
    "plt.plot(rmse_valid_var[1], label='siconc_valid')\n",
    "plt.plot(rmse_train_var[1], label='siconc_train')\n",
    "plt.ylabel('RMSE')\n",
    "plt.xlabel('epochs')\n",
    "plt.legend()\n",
    "plt.show()"
   ]
  },
  {
   "cell_type": "code",
   "execution_count": 121,
   "metadata": {
    "colab": {
     "base_uri": "https://localhost:8080/"
    },
    "id": "aRzvI314Dt_O",
    "outputId": "8340f3be-b163-4375-a9eb-018311c394c4"
   },
   "outputs": [
    {
     "data": {
      "text/plain": [
       "True"
      ]
     },
     "execution_count": 121,
     "metadata": {},
     "output_type": "execute_result"
    }
   ],
   "source": [
    "rmse_valid[5]==np.sqrt((rmse_valid_var[0][5]**2+rmse_valid_var[1][5]**2)/2)"
   ]
  },
  {
   "cell_type": "code",
   "execution_count": 123,
   "metadata": {
    "colab": {
     "base_uri": "https://localhost:8080/",
     "height": 335
    },
    "id": "rimtdeX-gnFZ",
    "outputId": "3c21e421-a2a9-4b36-af22-d2164c4fa26d"
   },
   "outputs": [
    {
     "data": {
      "text/plain": [
       "<matplotlib.image.AxesImage at 0x7a7cce6889a0>"
      ]
     },
     "execution_count": 123,
     "metadata": {},
     "output_type": "execute_result"
    },
    {
     "data": {
      "image/png": "[encoded data removed]",
      "text/plain": [
       "<Figure size 640x480 with 1 Axes>"
      ]
     },
     "metadata": {},
     "output_type": "display_data"
    }
   ],
   "source": [
    "plt.imshow(np.mean(np.abs((pred_train[:,:,:,0]-Y_train[:,:,:,0])),axis=0))"
   ]
  },
  {
   "cell_type": "code",
   "execution_count": 107,
   "metadata": {
    "colab": {
     "base_uri": "https://localhost:8080/"
    },
    "id": "Lx3LJXGlv9cx",
    "outputId": "32542ff0-f915-4a9d-a0ff-7965759fefda"
   },
   "outputs": [
    {
     "data": {
      "text/plain": [
       "<tf.Tensor: shape=(), dtype=float32, numpy=0.0>"
      ]
     },
     "execution_count": 107,
     "metadata": {},
     "output_type": "execute_result"
    }
   ],
   "source": [
    "lsm_loss(np.stack([lsm,lsm],axis=2)*100,np.stack([lsm,lsm],axis=2),lsm=slm)"
   ]
  },
  {
   "cell_type": "code",
   "execution_count": 113,
   "metadata": {
    "colab": {
     "base_uri": "https://localhost:8080/",
     "height": 335
    },
    "id": "fgNqEf2U_7WB",
    "outputId": "22487cd7-0954-49f5-ab44-b17ee98ee40d"
   },
   "outputs": [
    {
     "data": {
      "text/plain": [
       "<matplotlib.image.AxesImage at 0x7a7ce875a740>"
      ]
     },
     "execution_count": 113,
     "metadata": {},
     "output_type": "execute_result"
    },
    {
     "data": {
      "image/png": "[encoded data removed]",
      "text/plain": [
       "<Figure size 640x480 with 1 Axes>"
      ]
     },
     "metadata": {},
     "output_type": "display_data"
    }
   ],
   "source": [
    "plt.imshow(X_train[0,:,:,0]*lsm)"
   ]
  },
  {
   "cell_type": "code",
   "execution_count": 66,
   "metadata": {},
   "outputs": [],
   "source": [
    "from CNN_architecture import *"
   ]
  },
  {
   "cell_type": "code",
   "execution_count": 68,
   "metadata": {},
   "outputs": [],
   "source": [
    "data_ocean = data_prep(root_era5, 5)"
   ]
  },
  {
   "cell_type": "code",
   "execution_count": 65,
   "metadata": {},
   "outputs": [
    {
     "ename": "AttributeError",
     "evalue": "'data_prep' object has no attribute 'ocean'",
     "output_type": "error",
     "traceback": [
      "Traceback \u001b[0;36m(most recent call last)\u001b[0m:\n",
      "\u001b[0;36m  Cell \u001b[0;32mIn[65], line 1\u001b[0;36m\n\u001b[0;31m    ocean.ocean()\u001b[0;36m\n",
      "\u001b[0;31mAttributeError\u001b[0m\u001b[0;31m:\u001b[0m 'data_prep' object has no attribute 'ocean'\n"
     ]
    }
   ],
   "source": [
    "data_ocean."
   ]
  }
 ],
 "metadata": {
  "colab": {
   "authorship_tag": "ABX9TyOjg9yrNxjDcXMm1vcKLf05",
   "provenance": []
  },
  "kernelspec": {
   "display_name": "Python 3 (Spyder)",
   "language": "python3",
   "name": "python3"
  },
  "language_info": {
   "codemirror_mode": {
    "name": "ipython",
    "version": 3
   },
   "file_extension": ".py",
   "mimetype": "text/x-python",
   "name": "python",
   "nbconvert_exporter": "python",
   "pygments_lexer": "ipython3",
   "version": "3.10.12"
  }
 },
 "nbformat": 4,
 "nbformat_minor": 4
}
