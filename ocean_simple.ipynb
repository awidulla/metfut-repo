{
 "cells": [
  {
   "cell_type": "markdown",
   "id": "4b1d5853-cf10-4e5b-a5e8-f92b3425428d",
   "metadata": {},
   "source": [
    "# simple ocean model\n",
    "Using the WeatherBench geopotential 500hPa model as an example to set up a first ocean model"
   ]
  }
 ],
 "metadata": {
  "kernelspec": {
   "display_name": "Python 3 (ipykernel)",
   "language": "python",
   "name": "python3"
  },
  "language_info": {
   "codemirror_mode": {
    "name": "ipython",
    "version": 3
   },
   "file_extension": ".py",
   "mimetype": "text/x-python",
   "name": "python",
   "nbconvert_exporter": "python",
   "pygments_lexer": "ipython3",
   "version": "3.10.12"
  }
 },
 "nbformat": 4,
 "nbformat_minor": 5
}
