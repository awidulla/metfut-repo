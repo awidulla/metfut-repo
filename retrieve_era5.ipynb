{
 "cells": [
  {
   "cell_type": "markdown",
   "id": "7cef9897-e281-4741-993e-e4adc7f1d321",
   "metadata": {},
   "source": [
    "# Retrieve and process ERA5 fields\n",
    "The following fields are needed for the metfut machine learning project:\n",
    "#### time invariant fields\n",
    "Meaning they just need to be retrieved for one point in time\n",
    "\n",
    "* soil type (slt/[43](https://codes.ecmwf.int/grib/param-db/43))\n",
    "* type of low vegetation (tvl/[29](https://codes.ecmwf.int/grib/param-db/29))\n",
    "* type of high vegetation (tvh/[30](https://codes.ecmwf.int/grib/param-db/30))\n",
    "* land-sea mask (lsm/[172](https://codes.ecmwf.int/grib/param-db/172))\n",
    "\n",
    "#### time variant fields\n",
    "* 2 meter temperature (t2m/[167](https://codes.ecmwf.int/grib/param-db/167))\n",
    "* soil temperature level 1 (stl1/[139](https://codes.ecmwf.int/grib/param-db/139))\n",
    "* sea surface temperateure (sst/[34](https://codes.ecmwf.int/grib/param-db/34))\n",
    "* sea ice area fraction (siconc/[31](https://codes.ecmwf.int/grib/param-db/31))\n",
    "* geopotential 500 hPa (z/[129](https://codes.ecmwf.int/grib/param-db/129))\n",
    "* temperature 850 hPa (t/[130](https://codes.ecmwf.int/grib/param-db/130))"
   ]
  },
  {
   "cell_type": "code",
   "execution_count": null,
   "id": "e51ba323-cdec-4761-841b-44e988d5f902",
   "metadata": {},
   "outputs": [],
   "source": [
    "# import packages\n",
    "import os\n",
    "import cdsapi\n",
    "c = cdsapi.Client()\n",
    "import numpy as np\n",
    "import xarray as xr"
   ]
  },
  {
   "cell_type": "markdown",
   "id": "fe476675-55ba-45d2-9dbb-1786b28d6005",
   "metadata": {},
   "source": [
    "#### parameters\n",
    "time period: 1979-01-01 to 2023-12-23 (one daily file at 9:00 UTC)  \n",
    "resolution: 5.625 deg"
   ]
  },
  {
   "cell_type": "code",
   "execution_count": null,
   "id": "37d4d574-9ce4-450a-bf01-3147e53f1550",
   "metadata": {},
   "outputs": [],
   "source": [
    "# time period\n",
    "years = np.arange('1979', '2024', dtype='datetime64[Y]')\n",
    "# paths to relevant directories\n",
    "root_download  = '/work/awidulla/METFUT/data_download/ERA5/'\n",
    "root_processed = '/work/awidulla/METFUT/data_processed/ERA5/'"
   ]
  },
  {
   "cell_type": "markdown",
   "id": "5abfb4d6-3d0a-442c-9946-23a1a3bf470f",
   "metadata": {},
   "source": [
    "#### retrieve time invariant fields\n",
    "They are retrieved seperately and don't need to be processed further"
   ]
  },
  {
   "cell_type": "code",
   "execution_count": null,
   "id": "404519cf-e735-4a36-8571-ba36af464192",
   "metadata": {},
   "outputs": [],
   "source": [
    "# set param ids and names\n",
    "param_ids    = [29, 30, 43, 172]\n",
    "param_names  = ['tvl', 'tvh', 'slt', 'lsm']\n",
    "# loop over requests\n",
    "for i, n in zip(param_ids,param_names):\n",
    "    c.retrieve(\"reanalysis-era5-complete\", {\n",
    "        \"class\": \"ea\",\n",
    "        \"date\": \"1979-01-01\",\n",
    "        \"expver\": \"1\",\n",
    "        \"levtype\": \"sfc\",\n",
    "        \"grid\": \"5.625/5.625\",\n",
    "        \"param\": str(i),\n",
    "        \"step\": \"0\",\n",
    "        \"stream\": \"oper\",\n",
    "        \"time\": \"09:00:00\",\n",
    "        \"type\": \"4v\",\n",
    "        \"format\": \"netcdf\"\n",
    "    }, root_processed+n+'_5.625deg.nc' )"
   ]
  },
  {
   "cell_type": "markdown",
   "id": "e602a1e6-0b74-4fd8-8c83-081f9f63b805",
   "metadata": {},
   "source": [
    "#### retrieve time variant fields\n",
    "These need to be retrieved for every time step. For efficient Mars requests, only one tape will be accessed at once. This requires some post processing from monthly to yearly files."
   ]
  },
  {
   "cell_type": "code",
   "execution_count": null,
   "id": "7322deb0-c330-45ae-b1c8-7c4a6fa27e5b",
   "metadata": {},
   "outputs": [],
   "source": [
    "# create folder structure - some housekeeping for monthly files\n",
    "# create directory if it doesn't already exist\n",
    "for y in years:\n",
    "    folder_path = root_download+str(y)\n",
    "    try:\n",
    "        os.mkdir(folder_path)\n",
    "    except FileExistsError:\n",
    "        # directory already exists\n",
    "        pass"
   ]
  },
  {
   "cell_type": "markdown",
   "id": "da552c8c-2451-4dab-86d3-8d4adaa8c251",
   "metadata": {},
   "source": [
    "Retrieving surface level variables:"
   ]
  },
  {
   "cell_type": "code",
   "execution_count": null,
   "id": "799db647-0bab-4139-b025-d03606aaeca7",
   "metadata": {},
   "outputs": [],
   "source": [
    "# loop over all months\n",
    "for y in years:\n",
    "    for m in np.arange(y,  y+np.timedelta64(1,'Y'), dtype='datetime64[M]'):\n",
    "        days = np.arange(m, m+np.timedelta64(1,'M'), dtype='datetime64[D]')\n",
    "        date_stamp = str(days[0])+'/to/'+str(days[-1])\n",
    "        # execute CDS request for each month\n",
    "        c.retrieve(\"reanalysis-era5-complete\", {\n",
    "            \"class\": \"ea\",\n",
    "            \"date\": date_stamp,\n",
    "            \"expver\": \"1\",\n",
    "            \"levtype\": \"sfc\",\n",
    "            \"grid\": \"5.625/5.625\",\n",
    "            \"param\": \"31/34/139/167\",\n",
    "            \"step\": \"0\",\n",
    "            \"stream\": \"oper\",\n",
    "            \"time\": \"09:00:00\",\n",
    "            \"type\": \"4v\",\n",
    "            \"format\": \"netcdf\"\n",
    "        }, root_download+str(y)+'/era5_timevariant_'+str(m)+'.nc')"
   ]
  },
  {
   "cell_type": "markdown",
   "id": "e115def5-9c71-4114-ac90-e3a64ec3a316",
   "metadata": {},
   "source": [
    "Retrieving pressure level variables:"
   ]
  },
  {
   "cell_type": "code",
   "execution_count": null,
   "id": "9413eef7-d8a6-4438-a357-eba8134b0b1c",
   "metadata": {
    "scrolled": true
   },
   "outputs": [],
   "source": [
    "# loop over all months\n",
    "for y in years:\n",
    "    for m in np.arange(y,  y+np.timedelta64(1,'Y'), dtype='datetime64[M]'):\n",
    "        days = np.arange(m, m+np.timedelta64(1,'M'), dtype='datetime64[D]')\n",
    "        date_stamp = str(days[0])+'/to/'+str(days[-1])\n",
    "        # execute CDS request for each month\n",
    "        c.retrieve(\"reanalysis-era5-complete\", {\n",
    "            \"class\": \"ea\",\n",
    "            \"date\": date_stamp,\n",
    "            \"expver\": \"1\",\n",
    "            \"levtype\": \"pl\",\n",
    "            \"levelist\": \"500/850\",\n",
    "            \"grid\": \"5.625/5.625\",\n",
    "            \"param\": \"129/130\",\n",
    "            \"step\": \"0\",\n",
    "            \"stream\": \"oper\",\n",
    "            \"time\": \"09:00:00\",\n",
    "            \"type\": \"4v\",\n",
    "            \"format\": \"netcdf\"\n",
    "        }, root_download+str(y)+'/era5_timevariant_pl_'+str(m)+'.nc')"
   ]
  },
  {
   "cell_type": "markdown",
   "id": "3b3da9b2-4a75-4d52-ab93-4c9c795f6ba5",
   "metadata": {},
   "source": [
    "#### post processing\n",
    "Monthly files that contain all time variant fields will be processed to yearly files that just contain one variable."
   ]
  },
  {
   "cell_type": "code",
   "execution_count": null,
   "id": "86283121-fb4b-434b-a503-5ba1a1e849a8",
   "metadata": {},
   "outputs": [],
   "source": [
    "# loop over years - make sure these sub-folders exist in root_download\n",
    "for y in years:\n",
    "    path = root_download+str(y)+'/era5*.nc'\n",
    "    data = xr.open_mfdataset(path, combine='by_coords')\n",
    "    data['siconc'].to_netcdf(root_processed+'siconc_5.625deg/siconc_'+str(y)+'_5.625deg.nc')\n",
    "    data['sst'].to_netcdf(root_processed+'sst_5.625deg/sst_'+str(y)+'_5.625deg.nc')\n",
    "    data['stl1'].to_netcdf(root_processed+'stl1_5.625deg/stl1_'+str(y)+'_5.625deg.nc')\n",
    "    data['t2m'].to_netcdf(root_processed+'t2m_5.625deg/t2m_'+str(y)+'_5.625deg.nc')\n",
    "    data.z.sel(level=500).to_netcdf(root_processed+'z500_5.625deg/z500_'+str(y)+'_5.625deg.nc')\n",
    "    data.t.sel(level=850).to_netcdf(root_processed+'t850_5.625deg/t850_'+str(y)+'_5.625deg.nc')"
   ]
  }
 ],
 "metadata": {
  "kernelspec": {
   "display_name": "Python 3 (ipykernel)",
   "language": "python",
   "name": "python3"
  },
  "language_info": {
   "codemirror_mode": {
    "name": "ipython",
    "version": 3
   },
   "file_extension": ".py",
   "mimetype": "text/x-python",
   "name": "python",
   "nbconvert_exporter": "python",
   "pygments_lexer": "ipython3",
   "version": "3.11.9"
  }
 },
 "nbformat": 4,
 "nbformat_minor": 5
}
